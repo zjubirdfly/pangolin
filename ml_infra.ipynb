{
 "cells": [
  {
   "cell_type": "code",
   "execution_count": 5,
   "metadata": {},
   "outputs": [],
   "source": [
    "import numpy as np\n",
    "import pandas as pd\n",
    "import os, sys\n",
    "import glob\n",
    "import tensorflow as tf\n",
    "from tensorflow import keras\n",
    "from scipy.fftpack import fft,ifft\n",
    "import matplotlib.pyplot as plt\n",
    "## Imports: Keras Models\n",
    "from keras.models import Sequential\n",
    "from keras.layers import Flatten, Dense, Lambda\n",
    "from keras.models import Sequential, Model\n",
    "from keras.layers import Cropping2D\n",
    "from keras.layers.core import Dropout\n",
    "from keras.layers.convolutional import Convolution2D\n",
    "from keras.layers.pooling import MaxPooling2D\n",
    "import random\n",
    "from sklearn.model_selection import train_test_split\n",
    "\n",
    "### Imports: data preprocessing \n",
    "import csv\n",
    "import numpy as np\n",
    "import os\n",
    "import sklearn\n",
    "import siina\n",
    "\n",
    "richwater_path = \"/home/birdfly/Data/Radar/richwater/\"\n",
    "broken_path = \"/home/birdfly/Data/Radar/broken/\"\n",
    "empty_path = \"/home/birdfly/Data/Radar/empty/\"\n",
    "normal_path = \"/home/birdfly/Data/Radar/normal/\""
   ]
  },
  {
   "cell_type": "code",
   "execution_count": 29,
   "metadata": {},
   "outputs": [],
   "source": [
    "def read_dzt_file(path):\n",
    "    print(path)\n",
    "    # create RadarFile object\n",
    "    meas = siina.Radar()\n",
    "    # read in the data\n",
    "    meas.read_file(path)\n",
    "\n",
    "    return meas.header, meas.data"
   ]
  },
  {
   "cell_type": "code",
   "execution_count": 30,
   "metadata": {},
   "outputs": [],
   "source": [
    "def read_directory(category_paths):\n",
    "    # task_datas = []\n",
    "    X_train = []\n",
    "    y_train = []\n",
    "    category = 0\n",
    "    \n",
    "    for category_path in category_paths:\n",
    "        files = glob.glob(category_path + \"/*.DZT\")\n",
    "        for file in files:\n",
    "            print(file)\n",
    "            header, data = read_dzt_file(file) \n",
    "            X_train.append(data)\n",
    "            y_train.append(category)       \n",
    "        category = category + 1\n",
    "            \n",
    "    X_train = np.asarray(X_train)\n",
    "    y_train = tf.keras.utils.to_categorical(y=y_train, num_classes=2)\n",
    "    \n",
    "    return X_train, y_train"
   ]
  },
  {
   "cell_type": "code",
   "execution_count": null,
   "metadata": {},
   "outputs": [],
   "source": [
    "read_directory([richwater_path, broken_path, empty_path,normal_path])"
   ]
  },
  {
   "cell_type": "code",
   "execution_count": null,
   "metadata": {},
   "outputs": [],
   "source": [
    "def run_model(x_train, y_train, x_test, y_test):\n",
    "    model = tf.keras.models.Sequential([\n",
    "        tf.keras.layers.Flatten(),\n",
    "        tf.keras.layers.Dense((freq_to - freq_from)*channels_count, activation='relu'),\n",
    "        tf.keras.layers.Dense(max(freq_to - freq_from,channels_count), activation='relu'), \n",
    "        tf.keras.layers.Dense(min(freq_to - freq_from,channels_count), activation='relu'),     \n",
    "        tf.keras.layers.Dense(2, activation='sigmoid')\n",
    "    ])\n",
    "\n",
    "    model.compile(loss='mse', optimizer='adam', metrics=['accuracy'])\n",
    "    history = model.fit(x_train, y_train, epochs= 10)\n",
    "    model.evaluate(x_test, y_test)\n",
    "    # list all data in history\n",
    "    print(history.history.keys())\n",
    "    # summarize history for accuracy\n",
    "    plt.plot(history.history['accuracy'])\n",
    "    plt.title('model accuracy')\n",
    "    plt.ylabel('accuracy')\n",
    "    plt.xlabel('epoch')\n",
    "    plt.legend(['train', 'test'], loc='upper left')\n",
    "    plt.show()\n",
    "    # summarize history for loss\n",
    "    plt.plot(history.history['loss'])\n",
    "    plt.title('model loss')\n",
    "    plt.ylabel('loss')\n",
    "    plt.xlabel('epoch')\n",
    "    plt.legend(['train', 'test'], loc='upper left')\n",
    "    plt.show()\n",
    "    model.save('model.h5')\n",
    "    print('model.h5 has been saved.')"
   ]
  }
 ],
 "metadata": {
  "kernelspec": {
   "display_name": "Python 3",
   "language": "python",
   "name": "python3"
  },
  "language_info": {
   "codemirror_mode": {
    "name": "ipython",
    "version": 3
   },
   "file_extension": ".py",
   "mimetype": "text/x-python",
   "name": "python",
   "nbconvert_exporter": "python",
   "pygments_lexer": "ipython3",
   "version": "3.7.5"
  }
 },
 "nbformat": 4,
 "nbformat_minor": 4
}
