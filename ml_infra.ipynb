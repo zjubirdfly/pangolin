{
 "cells": [
  {
   "cell_type": "code",
   "execution_count": 1,
   "metadata": {},
   "outputs": [
    {
     "name": "stderr",
     "output_type": "stream",
     "text": [
      "Using TensorFlow backend.\n"
     ]
    }
   ],
   "source": [
    "import numpy as np\n",
    "import pandas as pd\n",
    "import os, sys\n",
    "import glob\n",
    "import tensorflow as tf\n",
    "from tensorflow import keras\n",
    "from scipy.fftpack import fft,ifft\n",
    "import matplotlib.pyplot as plt\n",
    "## Imports: Keras Models\n",
    "from keras.models import Sequential\n",
    "from keras.layers import Flatten, Dense, Lambda\n",
    "from keras.models import Sequential, Model\n",
    "from keras.layers import Cropping2D\n",
    "from keras.layers.core import Dropout\n",
    "from keras.layers.convolutional import Convolution2D\n",
    "from keras.layers.pooling import MaxPooling2D\n",
    "import random\n",
    "from sklearn.model_selection import train_test_split\n",
    "\n",
    "import csv\n",
    "import numpy as np\n",
    "import os\n",
    "import sklearn\n",
    "import siina\n",
    "\n",
    "richwater_path = \"/home/birdfly/Data/Rada/richwater/\"\n",
    "broken_path = \"/home/birdfly/Data/Radar/broken/\"\n",
    "empty_path = \"/home/birdfly/Data/Radar/empty/\"\n",
    "normal_path = \"/home/birdfly/Data/Radar/normal/\""
   ]
  },
  {
   "cell_type": "code",
   "execution_count": 2,
   "metadata": {},
   "outputs": [],
   "source": [
    "def transfer_time_to_freq(data, samplefrequency, freq_from, freq_to, times):\n",
    "    \"\"\" Transfer time series data to frequency data.\n",
    "    \n",
    "    Parameters:\n",
    "    data: DZT Numpy data N*M, where N is the number of channels and M is the number of times.\n",
    "    samplefrequency: sample frequency of DZT data. For example, 250.(Hz).\n",
    "    freq_from: Lower bound of frequency band width. For example, 0.\n",
    "    freq_to: Upper bound of frequency band width. For example, 50.\n",
    "    times: We want to use times to fix the dimension of freq data. For example, freq original data is [1,2,3], by times 3, the output will be[1,2,3,1,2,3,1,2,3]\n",
    "    \n",
    "    Returns:\n",
    "    --------\n",
    "    freq_data: (N*(freq_to-freq_from)) * 1 matrix, where N is the number of channels. pd dataframe.\n",
    "    \"\"\"\n",
    "    freq_data = []\n",
    "    for chaneldata in data:  \n",
    "        fft_y=fft(chaneldata)\n",
    "        T = 1/samplefrequency \n",
    "        N = chaneldata.size\n",
    "        freq_data_row = np.abs(fft_y)[:N // 2] * 1 / N\n",
    "        current_time = 0\n",
    "        while current_time < times:\n",
    "            freq_data.extend(freq_data_row[freq_from:freq_to])\n",
    "            current_time = current_time + 1\n",
    "    \n",
    "    return freq_data"
   ]
  },
  {
   "cell_type": "code",
   "execution_count": 3,
   "metadata": {},
   "outputs": [],
   "source": [
    "def read_dzt_file(filepath):\n",
    "    \"\"\" Read DZT file from a given path.\n",
    "    \n",
    "    Parameter: \n",
    "    filepath: str\n",
    "    Path to a dzt-file\n",
    "    \n",
    "    Returns\n",
    "    -------\n",
    "    header : dictionary\n",
    "        First header, length of 1024 bytes, unpacked.\n",
    "        Other headers are found as a list of bytes under 'other_headers'.\n",
    "    data : list of numpy arrays\n",
    "        Each channel in Fortran (column oriented) format.\n",
    "        In case of failing to reshape, returns one numpy array in a list.\n",
    "        Error message is found in the header-dict. \n",
    "    \"\"\"\n",
    "    meas = siina.Radar()\n",
    "    meas.read_file(filepath)\n",
    "\n",
    "    return meas.header, meas.data"
   ]
  },
  {
   "cell_type": "code",
   "execution_count": 4,
   "metadata": {},
   "outputs": [],
   "source": [
    "def read_directory(filepaths):\n",
    "    \"\"\" Read all the files in the given pathes.\n",
    "    \n",
    "    Parameter:\n",
    "    filepaths: a list of paths, where each path contains a category of files.\n",
    "        For ex, [richwater_path, broken_path]\n",
    "    \n",
    "    Returns:\n",
    "    --------\n",
    "    X_train: the training data set.\n",
    "    y_train: the label of training data set.\n",
    "    \"\"\"\n",
    "    X_train = []\n",
    "    Y_train = []\n",
    "    category = 0\n",
    "    \n",
    "    for filepath in filepaths:\n",
    "        files = glob.glob(filepath + \"/*.DZT\")\n",
    "        for file in files:\n",
    "            try:\n",
    "                header, data = read_dzt_file(file) \n",
    "                samplefrequency = 1.0/header['samples_per_second'] \n",
    "                times = 1\n",
    "                if header['nsamp']==256:\n",
    "                    times = 1024/256\n",
    "                elif header['nsamp']==512:\n",
    "                    times = 1024/512\n",
    "                elif header['nsamp'] == 1024:\n",
    "                    times = 1024/1024\n",
    "#                 elif header['nsamp'] == 2048:\n",
    "#                     times = 2048/2048\n",
    "                else:\n",
    "                    print(\"error file:\", file)\n",
    "                    continue\n",
    "                freqdata = transfer_time_to_freq(data, samplefrequency, 0, 25, times)\n",
    "                X_train.append(freqdata)\n",
    "                Y_train.append(category)   \n",
    "            except:\n",
    "                print(\"error file:\", file)\n",
    "        category = category + 1\n",
    "           \n",
    "    print(len(X_train))\n",
    "    X_train = np.asarray(X_train)\n",
    "    Y_train = tf.keras.utils.to_categorical(y=Y_train, num_classes=len(filepaths))\n",
    "    \n",
    "    return X_train, Y_train"
   ]
  },
  {
   "cell_type": "code",
   "execution_count": 5,
   "metadata": {},
   "outputs": [],
   "source": [
    "def run_model(x_train, y_train, x_test, y_test):\n",
    "    model = tf.keras.models.Sequential([\n",
    "        tf.keras.layers.Flatten(),\n",
    "        tf.keras.layers.Dense(25*1024, activation='relu'),\n",
    "        tf.keras.layers.Dense(1024, activation='relu'), \n",
    "        tf.keras.layers.Dense(100, activation='relu'),     \n",
    "        tf.keras.layers.Dense(2, activation='sigmoid')\n",
    "    ])\n",
    "\n",
    "    model.compile(loss='mse', optimizer='adam', metrics=['accuracy'])\n",
    "    history = model.fit(x_train, y_train, epochs= 10)\n",
    "    model.evaluate(x_test, y_test)\n",
    "    # list all data in history\n",
    "    print(history.history.keys())\n",
    "    # summarize history for accuracy\n",
    "    plt.plot(history.history['accuracy'])\n",
    "    plt.title('model accuracy')\n",
    "    plt.ylabel('accuracy')\n",
    "    plt.xlabel('epoch')\n",
    "    plt.legend(['train', 'test'], loc='upper left')\n",
    "    plt.show()\n",
    "    # summarize history for loss\n",
    "    plt.plot(history.history['loss'])\n",
    "    plt.title('model loss')\n",
    "    plt.ylabel('loss')\n",
    "    plt.xlabel('epoch')\n",
    "    plt.legend(['train', 'test'], loc='upper left')\n",
    "    plt.show()\n",
    "    model.save('model.h5')\n",
    "    print('model.h5 has been saved.')"
   ]
  },
  {
   "cell_type": "code",
   "execution_count": 6,
   "metadata": {},
   "outputs": [
    {
     "name": "stdout",
     "output_type": "stream",
     "text": [
      "427\n",
      "Train on 341 samples\n",
      "Epoch 1/10\n",
      "341/341 [==============================] - 26s 76ms/sample - loss: 0.1158 - accuracy: 0.8152\n",
      "Epoch 2/10\n",
      "341/341 [==============================] - 25s 73ms/sample - loss: 0.0000e+00 - accuracy: 1.0000\n",
      "Epoch 3/10\n",
      "341/341 [==============================] - 25s 74ms/sample - loss: 0.0000e+00 - accuracy: 1.0000\n",
      "Epoch 4/10\n",
      "341/341 [==============================] - 25s 73ms/sample - loss: 0.0000e+00 - accuracy: 1.0000\n",
      "Epoch 5/10\n",
      "341/341 [==============================] - 23s 69ms/sample - loss: 0.0000e+00 - accuracy: 1.0000\n",
      "Epoch 6/10\n",
      "341/341 [==============================] - 25s 73ms/sample - loss: 0.0000e+00 - accuracy: 1.0000\n",
      "Epoch 7/10\n",
      "341/341 [==============================] - 25s 72ms/sample - loss: 0.0000e+00 - accuracy: 1.0000\n",
      "Epoch 8/10\n",
      "341/341 [==============================] - 25s 72ms/sample - loss: 0.0000e+00 - accuracy: 1.0000\n",
      "Epoch 9/10\n",
      "341/341 [==============================] - 25s 73ms/sample - loss: 0.0000e+00 - accuracy: 1.0000\n",
      "Epoch 10/10\n",
      "341/341 [==============================] - 25s 72ms/sample - loss: 0.0000e+00 - accuracy: 1.0000\n",
      "86/1 [====================================================================================================================================================================================================================================================================================================================================================================================================================================================================================================================================================================================================================================================================================================================================================================================================================================================================================================================================================================================================================================================================================================================================================================================================================================================================================================================================================================================================================================================================================================================================================================================================================================================================================================================================================================================================================================================================================================================================================================================================================================================================================================================================================================================================================================================================================================================================================================================================================================================================================================================================================================================================================================================================================] - 1s 8ms/sample - loss: 0.0000e+00 - accuracy: 1.0000\n",
      "dict_keys(['loss', 'accuracy'])\n"
     ]
    },
    {
     "data": {
      "image/png": "[encoded data removed]",
      "text/plain": [
       "<Figure size 432x288 with 1 Axes>"
      ]
     },
     "metadata": {
      "needs_background": "light"
     },
     "output_type": "display_data"
    },
    {
     "data": {
      "image/png": "[encoded data removed]",
      "text/plain": [
       "<Figure size 432x288 with 1 Axes>"
      ]
     },
     "metadata": {
      "needs_background": "light"
     },
     "output_type": "display_data"
    },
    {
     "name": "stdout",
     "output_type": "stream",
     "text": [
      "model.h5 has been saved.\n"
     ]
    }
   ],
   "source": [
    "if __name__ == \"__main__\":\n",
    "    x, y = read_directory([richwater_path, broken_path])\n",
    "    \n",
    "    x_train, x_test, y_train, y_test = train_test_split( x, y, test_size=0.2, random_state=21)\n",
    "\n",
    "    run_model(x_train, y_train, x_test, y_test)"
   ]
  },
  {
   "cell_type": "code",
   "execution_count": null,
   "metadata": {},
   "outputs": [],
   "source": []
  }
 ],
 "metadata": {
  "kernelspec": {
   "display_name": "Python 3",
   "language": "python",
   "name": "python3"
  },
  "language_info": {
   "codemirror_mode": {
    "name": "ipython",
    "version": 3
   },
   "file_extension": ".py",
   "mimetype": "text/x-python",
   "name": "python",
   "nbconvert_exporter": "python",
   "pygments_lexer": "ipython3",
   "version": "3.7.5"
  }
 },
 "nbformat": 4,
 "nbformat_minor": 4
}
